{
 "cells": [
  {
   "cell_type": "code",
   "execution_count": 5,
   "metadata": {},
   "outputs": [
    {
     "name": "stdout",
     "output_type": "stream",
     "text": [
      "Зашифрованное сообщение: c18a6603d3ceb699797e83f24332517668db3a91a99ccf6354c11ccc81e31a142cd806e686fad3\n",
      "Ключ:                    112b46d34e1e0849cbaf0822ff1281e5b865ea2579221fdf78e1cc785063cb97fc6fd76a5775f2\n",
      "Расшифрованное сообщение: С Новым Годом, друзья!\n"
     ]
    }
   ],
   "source": [
    "import binascii\n",
    "import secrets\n",
    "\n",
    "def str_to_hex(s):\n",
    "    return binascii.hexlify(s.encode('utf-8')).decode('utf-8')\n",
    "\n",
    "def hex_to_str(h):\n",
    "     return binascii.unhexlify(h.encode('utf-8')).decode('utf-8')\n",
    "\n",
    "def xor_hex_str(hex1, hex2):\n",
    "    bytes1 = bytes.fromhex(hex1)\n",
    "    bytes2 = bytes.fromhex(hex2)\n",
    "    xor_result = bytes(a ^ b for a, b in zip(bytes1, bytes2))\n",
    "    return xor_result.hex()\n",
    "\n",
    "def gen_random_key(l):\n",
    "    random_bytes = secrets.token_bytes(l)\n",
    "    return random_bytes\n",
    "\n",
    "def encrypt_message(message):\n",
    "    message_bytes = message.encode('utf-8')\n",
    "    key = gen_random_key(len(message_bytes))\n",
    "    cipher_bytes = bytes(a^b for a,b in zip(message_bytes, key))\n",
    "    return cipher_bytes, key\n",
    "\n",
    "def decrypt_message(cipher_bytes, key):\n",
    "    decrypted_bytes = bytes(a^b for a,b in zip(cipher_bytes, key))\n",
    "    return decrypted_bytes.decode('utf-8')\n",
    "\n",
    "open_message = \"С Новым Годом, друзья!\"\n",
    "encrypted_message, key = encrypt_message(open_message)\n",
    "print(\"Зашифрованное сообщение:\", encrypted_message.hex())\n",
    "print(\"Ключ:                   \", key.hex())\n",
    "decrypted_message = decrypt_message(encrypted_message, key)\n",
    "print(\"Расшифрованное сообщение:\", decrypted_message)\n"
   ]
  }
 ],
 "metadata": {
  "kernelspec": {
   "display_name": "base",
   "language": "python",
   "name": "python3"
  },
  "language_info": {
   "codemirror_mode": {
    "name": "ipython",
    "version": 3
   },
   "file_extension": ".py",
   "mimetype": "text/x-python",
   "name": "python",
   "nbconvert_exporter": "python",
   "pygments_lexer": "ipython3",
   "version": "3.11.5"
  }
 },
 "nbformat": 4,
 "nbformat_minor": 2
}
